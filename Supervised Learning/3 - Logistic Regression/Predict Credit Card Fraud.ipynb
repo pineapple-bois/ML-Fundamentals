{
 "cells": [
  {
   "cell_type": "markdown",
   "source": [
    "# Predict Credit Card Fraud"
   ],
   "metadata": {
    "collapsed": false
   }
  },
  {
   "cell_type": "markdown",
   "source": [
    "## Kaggle [Synthetic Financial Dataset For Fraud Detection](https://www.kaggle.com/datasets/ealaxi/paysim1)"
   ],
   "metadata": {
    "collapsed": false
   }
  },
  {
   "cell_type": "code",
   "execution_count": 4,
   "metadata": {
    "collapsed": true
   },
   "outputs": [],
   "source": [
    "import seaborn\n",
    "import pandas as pd\n",
    "import numpy as np\n",
    "import matplotlib.pyplot as plt\n",
    "from sklearn.linear_model import LogisticRegression\n",
    "from sklearn.model_selection import train_test_split\n",
    "from sklearn.preprocessing import StandardScaler"
   ]
  },
  {
   "cell_type": "code",
   "execution_count": 5,
   "outputs": [
    {
     "name": "stdout",
     "output_type": "stream",
     "text": [
      "Columns:\n",
      "\n",
      "['step', 'type', 'amount', 'nameOrig', 'oldbalanceOrg', 'newbalanceOrig', 'nameDest', 'oldbalanceDest', 'newbalanceDest', 'isFraud', 'isPayment', 'isMovement', 'accountDiff']\n",
      "\n",
      "\n",
      "<class 'pandas.core.frame.DataFrame'>\n",
      "RangeIndex: 1000 entries, 0 to 999\n",
      "Data columns (total 13 columns):\n",
      " #   Column          Non-Null Count  Dtype  \n",
      "---  ------          --------------  -----  \n",
      " 0   step            1000 non-null   int64  \n",
      " 1   type            1000 non-null   object \n",
      " 2   amount          1000 non-null   float64\n",
      " 3   nameOrig        1000 non-null   object \n",
      " 4   oldbalanceOrg   1000 non-null   float64\n",
      " 5   newbalanceOrig  1000 non-null   float64\n",
      " 6   nameDest        1000 non-null   object \n",
      " 7   oldbalanceDest  1000 non-null   float64\n",
      " 8   newbalanceDest  1000 non-null   float64\n",
      " 9   isFraud         1000 non-null   int64  \n",
      " 10  isPayment       1000 non-null   int64  \n",
      " 11  isMovement      1000 non-null   int64  \n",
      " 12  accountDiff     1000 non-null   float64\n",
      "dtypes: float64(6), int64(4), object(3)\n",
      "memory usage: 101.7+ KB\n",
      "None\n"
     ]
    },
    {
     "data": {
      "text/plain": "   step      type      amount     nameOrig  oldbalanceOrg  newbalanceOrig  \\\n0   206  CASH_OUT    62927.08   C473782114           0.00            0.00   \n1   380   PAYMENT    32851.57  C1915112886           0.00            0.00   \n2   570  CASH_OUT  1131750.38  C1396198422     1131750.38            0.00   \n3   184  CASH_OUT    60519.74   C982551468       60519.74            0.00   \n4   162   CASH_IN    46716.01  C1759889425     7668050.60      7714766.61   \n\n      nameDest  oldbalanceDest  newbalanceDest  isFraud  isPayment  \\\n0  C2096898696       649420.67       712347.75        0          0   \n1   M916879292            0.00            0.00        0          1   \n2  C1612235515       313070.53      1444820.92        1          0   \n3  C1378644910        54295.32       182654.50        1          0   \n4  C2059152908      2125468.75      2078752.75        0          0   \n\n   isMovement  accountDiff  \n0           1    649420.67  \n1           0         0.00  \n2           1    818679.85  \n3           1      6224.42  \n4           0   5542581.85  ",
      "text/html": "<div>\n<style scoped>\n    .dataframe tbody tr th:only-of-type {\n        vertical-align: middle;\n    }\n\n    .dataframe tbody tr th {\n        vertical-align: top;\n    }\n\n    .dataframe thead th {\n        text-align: right;\n    }\n</style>\n<table border=\"1\" class=\"dataframe\">\n  <thead>\n    <tr style=\"text-align: right;\">\n      <th></th>\n      <th>step</th>\n      <th>type</th>\n      <th>amount</th>\n      <th>nameOrig</th>\n      <th>oldbalanceOrg</th>\n      <th>newbalanceOrig</th>\n      <th>nameDest</th>\n      <th>oldbalanceDest</th>\n      <th>newbalanceDest</th>\n      <th>isFraud</th>\n      <th>isPayment</th>\n      <th>isMovement</th>\n      <th>accountDiff</th>\n    </tr>\n  </thead>\n  <tbody>\n    <tr>\n      <th>0</th>\n      <td>206</td>\n      <td>CASH_OUT</td>\n      <td>62927.08</td>\n      <td>C473782114</td>\n      <td>0.00</td>\n      <td>0.00</td>\n      <td>C2096898696</td>\n      <td>649420.67</td>\n      <td>712347.75</td>\n      <td>0</td>\n      <td>0</td>\n      <td>1</td>\n      <td>649420.67</td>\n    </tr>\n    <tr>\n      <th>1</th>\n      <td>380</td>\n      <td>PAYMENT</td>\n      <td>32851.57</td>\n      <td>C1915112886</td>\n      <td>0.00</td>\n      <td>0.00</td>\n      <td>M916879292</td>\n      <td>0.00</td>\n      <td>0.00</td>\n      <td>0</td>\n      <td>1</td>\n      <td>0</td>\n      <td>0.00</td>\n    </tr>\n    <tr>\n      <th>2</th>\n      <td>570</td>\n      <td>CASH_OUT</td>\n      <td>1131750.38</td>\n      <td>C1396198422</td>\n      <td>1131750.38</td>\n      <td>0.00</td>\n      <td>C1612235515</td>\n      <td>313070.53</td>\n      <td>1444820.92</td>\n      <td>1</td>\n      <td>0</td>\n      <td>1</td>\n      <td>818679.85</td>\n    </tr>\n    <tr>\n      <th>3</th>\n      <td>184</td>\n      <td>CASH_OUT</td>\n      <td>60519.74</td>\n      <td>C982551468</td>\n      <td>60519.74</td>\n      <td>0.00</td>\n      <td>C1378644910</td>\n      <td>54295.32</td>\n      <td>182654.50</td>\n      <td>1</td>\n      <td>0</td>\n      <td>1</td>\n      <td>6224.42</td>\n    </tr>\n    <tr>\n      <th>4</th>\n      <td>162</td>\n      <td>CASH_IN</td>\n      <td>46716.01</td>\n      <td>C1759889425</td>\n      <td>7668050.60</td>\n      <td>7714766.61</td>\n      <td>C2059152908</td>\n      <td>2125468.75</td>\n      <td>2078752.75</td>\n      <td>0</td>\n      <td>0</td>\n      <td>0</td>\n      <td>5542581.85</td>\n    </tr>\n  </tbody>\n</table>\n</div>"
     },
     "execution_count": 5,
     "metadata": {},
     "output_type": "execute_result"
    }
   ],
   "source": [
    "# Subset of transactions with 1000 entries (rather than 200,000)\n",
    "transactions = pd.read_csv(\"Data/transactions_modified.csv\")\n",
    "columns = transactions.columns.tolist()\n",
    "print(F\"Columns:\\n\\n{columns}\\n\\n\")\n",
    "print(transactions.info())\n",
    "transactions.head()"
   ],
   "metadata": {
    "collapsed": false
   }
  },
  {
   "cell_type": "code",
   "execution_count": 6,
   "outputs": [
    {
     "name": "stdout",
     "output_type": "stream",
     "text": [
      "Fraudulent Transactions: 282\n"
     ]
    }
   ],
   "source": [
    "print(F\"Fraudulent Transactions: {transactions.isFraud[transactions.isFraud == 1].sum()}\")"
   ],
   "metadata": {
    "collapsed": false
   }
  },
  {
   "cell_type": "markdown",
   "source": [
    "----\n",
    "&nbsp;\n",
    "### Clean the Data"
   ],
   "metadata": {
    "collapsed": false
   }
  },
  {
   "cell_type": "code",
   "execution_count": 7,
   "outputs": [
    {
     "name": "stdout",
     "output_type": "stream",
     "text": [
      "Amount column\n",
      "Summary Statistics:\n",
      "\n",
      "count    1.000000e+03\n",
      "mean     5.373080e+05\n",
      "std      1.423692e+06\n",
      "min      0.000000e+00\n",
      "25%      2.933705e+04\n",
      "50%      1.265305e+05\n",
      "75%      3.010378e+05\n",
      "max      1.000000e+07\n",
      "Name: amount, dtype: float64\n"
     ]
    }
   ],
   "source": [
    "print(F\"Amount column\\nSummary Statistics:\\n\\n{transactions['amount'].describe()}\")"
   ],
   "metadata": {
    "collapsed": false
   }
  },
  {
   "cell_type": "code",
   "execution_count": 8,
   "outputs": [
    {
     "name": "stderr",
     "output_type": "stream",
     "text": [
      "/var/folders/s9/z74lxq2n7d9ct45y9_ffymd00000gn/T/ipykernel_13585/3427628131.py:2: SettingWithCopyWarning: \n",
      "A value is trying to be set on a copy of a slice from a DataFrame\n",
      "\n",
      "See the caveats in the documentation: https://pandas.pydata.org/pandas-docs/stable/user_guide/indexing.html#returning-a-view-versus-a-copy\n",
      "  transactions['isPayment'][transactions['type'].isin(['CASH_OUT', \"TRANSFER\"])] = 1\n"
     ]
    }
   ],
   "source": [
    "transactions['isPayment'] = 0\n",
    "transactions['isPayment'][transactions['type'].isin(['CASH_OUT', \"TRANSFER\"])] = 1"
   ],
   "metadata": {
    "collapsed": false
   }
  },
  {
   "cell_type": "code",
   "execution_count": 9,
   "outputs": [],
   "source": [
    "transactions['accountDiff'] = transactions['oldbalanceOrg'] - transactions['oldbalanceDest']"
   ],
   "metadata": {
    "collapsed": false
   }
  },
  {
   "cell_type": "markdown",
   "source": [
    "----\n",
    "&nbsp;\n",
    "### Select and Split the Data"
   ],
   "metadata": {
    "collapsed": false
   }
  },
  {
   "cell_type": "code",
   "execution_count": 10,
   "outputs": [],
   "source": [
    "features = transactions[[\"amount\", \"isPayment\", \"isMovement\", \"accountDiff\"]]\n",
    "label = transactions[\"isFraud\"]"
   ],
   "metadata": {
    "collapsed": false
   }
  },
  {
   "cell_type": "code",
   "execution_count": 11,
   "outputs": [],
   "source": [
    "X_train, X_test, y_train, y_test = train_test_split(features, label, test_size=0.3)"
   ],
   "metadata": {
    "collapsed": false
   }
  },
  {
   "cell_type": "markdown",
   "source": [
    "#### Normalise the Data"
   ],
   "metadata": {
    "collapsed": false
   }
  },
  {
   "cell_type": "code",
   "execution_count": 12,
   "outputs": [],
   "source": [
    "scaler = StandardScaler()\n",
    "X_train = scaler.fit_transform(X_train)\n",
    "X_test = scaler.transform(X_test)"
   ],
   "metadata": {
    "collapsed": false
   }
  },
  {
   "cell_type": "code",
   "execution_count": 13,
   "outputs": [
    {
     "data": {
      "text/plain": "LogisticRegression()"
     },
     "execution_count": 13,
     "metadata": {},
     "output_type": "execute_result"
    }
   ],
   "source": [
    "# Fit the model to the training data\n",
    "model = LogisticRegression()\n",
    "model.fit(X_train, y_train)"
   ],
   "metadata": {
    "collapsed": false
   }
  },
  {
   "cell_type": "code",
   "execution_count": 14,
   "outputs": [
    {
     "name": "stdout",
     "output_type": "stream",
     "text": [
      "Training score: 0.8585714285714285\n"
     ]
    }
   ],
   "source": [
    "print(F\"Training score: {model.score(X_train, y_train)}\")"
   ],
   "metadata": {
    "collapsed": false
   }
  },
  {
   "cell_type": "code",
   "execution_count": 15,
   "outputs": [
    {
     "name": "stdout",
     "output_type": "stream",
     "text": [
      "Test score: 0.8433333333333334\n"
     ]
    }
   ],
   "source": [
    "print(F\"Test score: {model.score(X_test, y_test)}\")"
   ],
   "metadata": {
    "collapsed": false
   }
  },
  {
   "cell_type": "code",
   "execution_count": 16,
   "outputs": [
    {
     "name": "stdout",
     "output_type": "stream",
     "text": [
      "Model coefficients:\n",
      "[[2.16734789 1.68383637 1.68383637 1.34600829]]\n"
     ]
    }
   ],
   "source": [
    "# Model coefficients\n",
    "print(F\"Model coefficients:\\n{model.coef_}\")"
   ],
   "metadata": {
    "collapsed": false
   }
  },
  {
   "cell_type": "markdown",
   "source": [
    "These correspond to `amount`, `isPayment`, `isMovement`, `accountDiff`"
   ],
   "metadata": {
    "collapsed": false
   }
  },
  {
   "cell_type": "markdown",
   "source": [
    "----\n",
    "&nbsp;\n",
    "### Predict with the Model"
   ],
   "metadata": {
    "collapsed": false
   }
  },
  {
   "cell_type": "code",
   "execution_count": 17,
   "outputs": [
    {
     "name": "stdout",
     "output_type": "stream",
     "text": [
      "[[1.23456780e+05 0.00000000e+00 1.00000000e+00 5.46701000e+04]\n",
      " [9.87654300e+04 1.00000000e+00 0.00000000e+00 8.52475000e+03]\n",
      " [5.43678310e+05 1.00000000e+00 0.00000000e+00 5.10025500e+05]\n",
      " [1.56574321e+06 0.00000000e+00 1.00000000e+00 1.43624323e+07]]\n"
     ]
    }
   ],
   "source": [
    "# New transaction data\n",
    "transaction1 = np.array([123456.78, 0.0, 1.0, 54670.1])\n",
    "transaction2 = np.array([98765.43, 1.0, 0.0, 8524.75])\n",
    "transaction3 = np.array([543678.31, 1.0, 0.0, 510025.5])\n",
    "mytransaction = np.array([1565743.21, 0.0, 1.0, 14362432.31])\n",
    "\n",
    "# Combine in single Numpy array\n",
    "sample_transactions = np.stack((transaction1, transaction2, transaction3, mytransaction))\n",
    "print(sample_transactions)"
   ],
   "metadata": {
    "collapsed": false
   }
  },
  {
   "cell_type": "code",
   "execution_count": 18,
   "outputs": [
    {
     "name": "stdout",
     "output_type": "stream",
     "text": [
      "[[-2.92828464e-01 -1.21387736e+00  8.23806454e-01  1.02181885e-02]\n",
      " [-3.09126694e-01  8.23806454e-01 -1.21387736e+00 -9.08661714e-05]\n",
      " [-1.54492502e-02  8.23806454e-01 -1.21387736e+00  1.11946395e-01]\n",
      " [ 6.59193856e-01 -1.21387736e+00  8.23806454e-01  3.20662915e+00]]\n"
     ]
    },
    {
     "name": "stderr",
     "output_type": "stream",
     "text": [
      "/Users/Ian/opt/anaconda3/lib/python3.9/site-packages/sklearn/base.py:450: UserWarning: X does not have valid feature names, but StandardScaler was fitted with feature names\n",
      "  warnings.warn(\n"
     ]
    }
   ],
   "source": [
    "# Scale the feature data\n",
    "sample_transactions = scaler.transform(sample_transactions)\n",
    "print(sample_transactions)"
   ],
   "metadata": {
    "collapsed": false
   }
  },
  {
   "cell_type": "code",
   "execution_count": 19,
   "outputs": [
    {
     "name": "stdout",
     "output_type": "stream",
     "text": [
      "[0 0 0 1]\n"
     ]
    }
   ],
   "source": [
    "fraud_prediction = model.predict(sample_transactions)\n",
    "print(fraud_prediction)"
   ],
   "metadata": {
    "collapsed": false
   }
  },
  {
   "cell_type": "markdown",
   "source": [
    "So my fake transaction seems fraudulent.\n",
    "Why?"
   ],
   "metadata": {
    "collapsed": false
   }
  },
  {
   "cell_type": "code",
   "execution_count": 20,
   "outputs": [
    {
     "name": "stdout",
     "output_type": "stream",
     "text": [
      "[[0.97810733 0.02189267]\n",
      " [0.97913645 0.02086355]\n",
      " [0.95527059 0.04472941]\n",
      " [0.07133959 0.92866041]]\n"
     ]
    }
   ],
   "source": [
    "probabilities = model.predict_proba(sample_transactions)\n",
    "print(probabilities)"
   ],
   "metadata": {
    "collapsed": false
   }
  },
  {
   "cell_type": "markdown",
   "source": [
    "First column is probabilities of a transaction NOT being fraudulent\n",
    "\n",
    "Second columns is probability of a transaction being fraudulent\n",
    "- Mine has 89% probability of being fraud by the model!"
   ],
   "metadata": {
    "collapsed": false
   }
  },
  {
   "cell_type": "markdown",
   "source": [
    "----\n",
    "&nbsp;\n",
    "# Next step, `transactions.csv` with 200,000+ rows of data ..."
   ],
   "metadata": {
    "collapsed": false
   }
  },
  {
   "cell_type": "code",
   "execution_count": 21,
   "outputs": [
    {
     "name": "stdout",
     "output_type": "stream",
     "text": [
      "Columns:\n",
      "\n",
      "['step', 'type', 'amount', 'nameOrig', 'oldbalanceOrg', 'newbalanceOrig', 'nameDest', 'oldbalanceDest', 'newbalanceDest', 'isFraud']\n",
      "\n",
      "\n",
      "<class 'pandas.core.frame.DataFrame'>\n",
      "RangeIndex: 199999 entries, 0 to 199998\n",
      "Data columns (total 10 columns):\n",
      " #   Column          Non-Null Count   Dtype  \n",
      "---  ------          --------------   -----  \n",
      " 0   step            199999 non-null  int64  \n",
      " 1   type            199999 non-null  object \n",
      " 2   amount          199999 non-null  float64\n",
      " 3   nameOrig        199999 non-null  object \n",
      " 4   oldbalanceOrg   199999 non-null  float64\n",
      " 5   newbalanceOrig  199999 non-null  float64\n",
      " 6   nameDest        199999 non-null  object \n",
      " 7   oldbalanceDest  199999 non-null  float64\n",
      " 8   newbalanceDest  199999 non-null  float64\n",
      " 9   isFraud         199999 non-null  int64  \n",
      "dtypes: float64(5), int64(2), object(3)\n",
      "memory usage: 15.3+ MB\n",
      "None\n"
     ]
    },
    {
     "data": {
      "text/plain": "   step      type     amount     nameOrig  oldbalanceOrg  newbalanceOrig  \\\n0     8  CASH_OUT  158007.12   C424875646           0.00            0.00   \n1   236  CASH_OUT  457948.30  C1342616552           0.00            0.00   \n2    37   CASH_IN  153602.99   C900876541    11160428.67     11314031.67   \n3   331  CASH_OUT   49555.14   C177696810       10865.00            0.00   \n4   250  CASH_OUT   29648.02   C788941490           0.00            0.00   \n\n      nameDest  oldbalanceDest  newbalanceDest  isFraud  \n0  C1298177219       474016.32      1618631.97        0  \n1  C1323169990      2720411.37      3178359.67        0  \n2   C608741097      3274930.56      3121327.56        0  \n3   C462716348            0.00        49555.14        0  \n4  C1971700992        56933.09        86581.10        0  ",
      "text/html": "<div>\n<style scoped>\n    .dataframe tbody tr th:only-of-type {\n        vertical-align: middle;\n    }\n\n    .dataframe tbody tr th {\n        vertical-align: top;\n    }\n\n    .dataframe thead th {\n        text-align: right;\n    }\n</style>\n<table border=\"1\" class=\"dataframe\">\n  <thead>\n    <tr style=\"text-align: right;\">\n      <th></th>\n      <th>step</th>\n      <th>type</th>\n      <th>amount</th>\n      <th>nameOrig</th>\n      <th>oldbalanceOrg</th>\n      <th>newbalanceOrig</th>\n      <th>nameDest</th>\n      <th>oldbalanceDest</th>\n      <th>newbalanceDest</th>\n      <th>isFraud</th>\n    </tr>\n  </thead>\n  <tbody>\n    <tr>\n      <th>0</th>\n      <td>8</td>\n      <td>CASH_OUT</td>\n      <td>158007.12</td>\n      <td>C424875646</td>\n      <td>0.00</td>\n      <td>0.00</td>\n      <td>C1298177219</td>\n      <td>474016.32</td>\n      <td>1618631.97</td>\n      <td>0</td>\n    </tr>\n    <tr>\n      <th>1</th>\n      <td>236</td>\n      <td>CASH_OUT</td>\n      <td>457948.30</td>\n      <td>C1342616552</td>\n      <td>0.00</td>\n      <td>0.00</td>\n      <td>C1323169990</td>\n      <td>2720411.37</td>\n      <td>3178359.67</td>\n      <td>0</td>\n    </tr>\n    <tr>\n      <th>2</th>\n      <td>37</td>\n      <td>CASH_IN</td>\n      <td>153602.99</td>\n      <td>C900876541</td>\n      <td>11160428.67</td>\n      <td>11314031.67</td>\n      <td>C608741097</td>\n      <td>3274930.56</td>\n      <td>3121327.56</td>\n      <td>0</td>\n    </tr>\n    <tr>\n      <th>3</th>\n      <td>331</td>\n      <td>CASH_OUT</td>\n      <td>49555.14</td>\n      <td>C177696810</td>\n      <td>10865.00</td>\n      <td>0.00</td>\n      <td>C462716348</td>\n      <td>0.00</td>\n      <td>49555.14</td>\n      <td>0</td>\n    </tr>\n    <tr>\n      <th>4</th>\n      <td>250</td>\n      <td>CASH_OUT</td>\n      <td>29648.02</td>\n      <td>C788941490</td>\n      <td>0.00</td>\n      <td>0.00</td>\n      <td>C1971700992</td>\n      <td>56933.09</td>\n      <td>86581.10</td>\n      <td>0</td>\n    </tr>\n  </tbody>\n</table>\n</div>"
     },
     "execution_count": 21,
     "metadata": {},
     "output_type": "execute_result"
    }
   ],
   "source": [
    "# Subset of transactions with 1000 entries (rather than 200,000)\n",
    "transactions_real = pd.read_csv(\"Data/transactions.csv\")\n",
    "columns2 = transactions_real.columns.tolist()\n",
    "print(F\"Columns:\\n\\n{columns2}\\n\\n\")\n",
    "print(transactions_real.info())\n",
    "transactions_real.head()"
   ],
   "metadata": {
    "collapsed": false
   }
  },
  {
   "cell_type": "code",
   "execution_count": 22,
   "outputs": [
    {
     "name": "stdout",
     "output_type": "stream",
     "text": [
      "Full dataset\n",
      "Fraudulent Transactions: 282\n",
      "This is 0.141001%\n"
     ]
    }
   ],
   "source": [
    "fraud = transactions_real.isFraud[transactions_real.isFraud == 1].sum()\n",
    "print(F\"Full dataset\\nFraudulent Transactions: {fraud}\")\n",
    "print(F\"This is {round(fraud/len(transactions_real) * 100, 6)}%\")"
   ],
   "metadata": {
    "collapsed": false
   }
  },
  {
   "cell_type": "code",
   "execution_count": 23,
   "outputs": [
    {
     "name": "stdout",
     "output_type": "stream",
     "text": [
      "In the modified dataset, 28.2% of transactions were considered fraudulent\n"
     ]
    }
   ],
   "source": [
    "print(F\"In the modified dataset, {round((transactions.isFraud[transactions.isFraud == 1].sum())/len(transactions) * 100, 3)}% of transactions were considered fraudulent\")"
   ],
   "metadata": {
    "collapsed": false
   }
  }
 ],
 "metadata": {
  "kernelspec": {
   "display_name": "Python 3",
   "language": "python",
   "name": "python3"
  },
  "language_info": {
   "codemirror_mode": {
    "name": "ipython",
    "version": 2
   },
   "file_extension": ".py",
   "mimetype": "text/x-python",
   "name": "python",
   "nbconvert_exporter": "python",
   "pygments_lexer": "ipython2",
   "version": "2.7.6"
  }
 },
 "nbformat": 4,
 "nbformat_minor": 0
}
